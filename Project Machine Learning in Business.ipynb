{
 "cells": [
  {
   "cell_type": "markdown",
   "metadata": {},
   "source": [
    "# Выбор локации для скважины"
   ]
  },
  {
   "cell_type": "markdown",
   "metadata": {},
   "source": [
    "Допустим, вы работаете в добывающей компании «ГлавРосГосНефть». Нужно решить, где бурить новую скважину.\n",
    "\n",
    "Вам предоставлены пробы нефти в трёх регионах: в каждом 10 000 месторождений, где измерили качество нефти и объём её запасов. Постройте модель машинного обучения, которая поможет определить регион, где добыча принесёт наибольшую прибыль. Проанализируйте возможную прибыль и риски техникой *Bootstrap.*\n",
    "\n",
    "Шаги для выбора локации:\n",
    "\n",
    "- В избранном регионе ищут месторождения, для каждого определяют значения признаков;\n",
    "- Строят модель и оценивают объём запасов;\n",
    "- Выбирают месторождения с самым высокими оценками значений. Количество месторождений зависит от бюджета компании и стоимости разработки одной скважины;\n",
    "- Прибыль равна суммарной прибыли отобранных месторождений."
   ]
  },
  {
   "cell_type": "markdown",
   "metadata": {},
   "source": [
    "## Загрузка и подготовка данных"
   ]
  },
  {
   "cell_type": "code",
   "execution_count": 1,
   "metadata": {},
   "outputs": [],
   "source": [
    "#Импортируем необходимые библиотеки\n",
    "import pandas as pd\n",
    "import seaborn as sns\n",
    "import matplotlib.pyplot as plt\n",
    "import numpy as np\n",
    "\n",
    "from sklearn.model_selection import train_test_split\n",
    "from sklearn.linear_model import LinearRegression\n",
    "from sklearn.metrics import mean_squared_error"
   ]
  },
  {
   "cell_type": "code",
   "execution_count": 2,
   "metadata": {},
   "outputs": [],
   "source": [
    "try:\n",
    "    data_0 = pd.read_csv('/datasets/geo_data_0.csv')\n",
    "    data_1 = pd.read_csv('/datasets/geo_data_1.csv')\n",
    "    data_2 = pd.read_csv('/datasets/geo_data_2.csv')\n",
    "except:\n",
    "    data_0 = pd.read_csv('/datasets/geo_data_0.csv')\n",
    "    data_1 = pd.read_csv('/datasets/geo_data_1.csv')\n",
    "    data_2 = pd.read_csv('/datasets/geo_data_2.csv')"
   ]
  },
  {
   "cell_type": "code",
   "execution_count": 3,
   "metadata": {},
   "outputs": [
    {
     "name": "stdout",
     "output_type": "stream",
     "text": [
      "<class 'pandas.core.frame.DataFrame'>\n",
      "RangeIndex: 100000 entries, 0 to 99999\n",
      "Data columns (total 5 columns):\n",
      " #   Column   Non-Null Count   Dtype  \n",
      "---  ------   --------------   -----  \n",
      " 0   id       100000 non-null  object \n",
      " 1   f0       100000 non-null  float64\n",
      " 2   f1       100000 non-null  float64\n",
      " 3   f2       100000 non-null  float64\n",
      " 4   product  100000 non-null  float64\n",
      "dtypes: float64(4), object(1)\n",
      "memory usage: 3.8+ MB\n",
      "None\n",
      "<class 'pandas.core.frame.DataFrame'>\n",
      "RangeIndex: 100000 entries, 0 to 99999\n",
      "Data columns (total 5 columns):\n",
      " #   Column   Non-Null Count   Dtype  \n",
      "---  ------   --------------   -----  \n",
      " 0   id       100000 non-null  object \n",
      " 1   f0       100000 non-null  float64\n",
      " 2   f1       100000 non-null  float64\n",
      " 3   f2       100000 non-null  float64\n",
      " 4   product  100000 non-null  float64\n",
      "dtypes: float64(4), object(1)\n",
      "memory usage: 3.8+ MB\n",
      "None\n",
      "<class 'pandas.core.frame.DataFrame'>\n",
      "RangeIndex: 100000 entries, 0 to 99999\n",
      "Data columns (total 5 columns):\n",
      " #   Column   Non-Null Count   Dtype  \n",
      "---  ------   --------------   -----  \n",
      " 0   id       100000 non-null  object \n",
      " 1   f0       100000 non-null  float64\n",
      " 2   f1       100000 non-null  float64\n",
      " 3   f2       100000 non-null  float64\n",
      " 4   product  100000 non-null  float64\n",
      "dtypes: float64(4), object(1)\n",
      "memory usage: 3.8+ MB\n",
      "None\n"
     ]
    }
   ],
   "source": [
    "#исследуем типы данных в таблицах\n",
    "print(data_0.info())\n",
    "print(data_1.info())\n",
    "print(data_2.info())"
   ]
  },
  {
   "cell_type": "code",
   "execution_count": 4,
   "metadata": {
    "scrolled": true
   },
   "outputs": [
    {
     "name": "stdout",
     "output_type": "stream",
     "text": [
      "id         0\n",
      "f0         0\n",
      "f1         0\n",
      "f2         0\n",
      "product    0\n",
      "dtype: int64\n",
      "id         0\n",
      "f0         0\n",
      "f1         0\n",
      "f2         0\n",
      "product    0\n",
      "dtype: int64\n",
      "id         0\n",
      "f0         0\n",
      "f1         0\n",
      "f2         0\n",
      "product    0\n",
      "dtype: int64\n"
     ]
    }
   ],
   "source": [
    "#посмотрим, есть ли пустые строки\n",
    "print(data_0.isna().sum())\n",
    "print(data_1.isna().sum())\n",
    "print(data_2.isna().sum())"
   ]
  },
  {
   "cell_type": "code",
   "execution_count": 5,
   "metadata": {
    "scrolled": false
   },
   "outputs": [
    {
     "name": "stdout",
     "output_type": "stream",
     "text": [
      "0\n",
      "0\n",
      "0\n"
     ]
    }
   ],
   "source": [
    "#проверим на наличие дубликатов\n",
    "print(data_0.duplicated().sum())\n",
    "print(data_1.duplicated().sum())\n",
    "print(data_2.duplicated().sum())"
   ]
  },
  {
   "cell_type": "markdown",
   "metadata": {},
   "source": [
    "Посмотрим на корреляции, может быть есть какие-то явные зависимости."
   ]
  },
  {
   "cell_type": "code",
   "execution_count": 6,
   "metadata": {
    "scrolled": true
   },
   "outputs": [
    {
     "data": {
      "text/html": [
       "<style  type=\"text/css\" >\n",
       "#T_73b4f_row0_col0,#T_73b4f_row1_col1,#T_73b4f_row2_col2,#T_73b4f_row3_col3{\n",
       "            background-color:  #ffc0cb;\n",
       "            color:  #000000;\n",
       "        }#T_73b4f_row0_col1,#T_73b4f_row0_col2,#T_73b4f_row1_col0,#T_73b4f_row1_col2,#T_73b4f_row1_col3{\n",
       "            background-color:  #f3f0f0;\n",
       "            color:  #000000;\n",
       "        }#T_73b4f_row0_col3{\n",
       "            background-color:  #f6e2e6;\n",
       "            color:  #000000;\n",
       "        }#T_73b4f_row2_col0{\n",
       "            background-color:  #f6e1e5;\n",
       "            color:  #000000;\n",
       "        }#T_73b4f_row2_col1{\n",
       "            background-color:  #f7e1e5;\n",
       "            color:  #000000;\n",
       "        }#T_73b4f_row2_col3{\n",
       "            background-color:  #fad5db;\n",
       "            color:  #000000;\n",
       "        }#T_73b4f_row3_col0{\n",
       "            background-color:  #f8dde1;\n",
       "            color:  #000000;\n",
       "        }#T_73b4f_row3_col1{\n",
       "            background-color:  #f5e8ea;\n",
       "            color:  #000000;\n",
       "        }#T_73b4f_row3_col2{\n",
       "            background-color:  #f9d9de;\n",
       "            color:  #000000;\n",
       "        }</style><table id=\"T_73b4f_\" ><thead>    <tr>        <th class=\"blank level0\" ></th>        <th class=\"col_heading level0 col0\" >f0</th>        <th class=\"col_heading level0 col1\" >f1</th>        <th class=\"col_heading level0 col2\" >f2</th>        <th class=\"col_heading level0 col3\" >product</th>    </tr></thead><tbody>\n",
       "                <tr>\n",
       "                        <th id=\"T_73b4f_level0_row0\" class=\"row_heading level0 row0\" >f0</th>\n",
       "                        <td id=\"T_73b4f_row0_col0\" class=\"data row0 col0\" >1.000000</td>\n",
       "                        <td id=\"T_73b4f_row0_col1\" class=\"data row0 col1\" >-0.440723</td>\n",
       "                        <td id=\"T_73b4f_row0_col2\" class=\"data row0 col2\" >-0.003153</td>\n",
       "                        <td id=\"T_73b4f_row0_col3\" class=\"data row0 col3\" >0.143536</td>\n",
       "            </tr>\n",
       "            <tr>\n",
       "                        <th id=\"T_73b4f_level0_row1\" class=\"row_heading level0 row1\" >f1</th>\n",
       "                        <td id=\"T_73b4f_row1_col0\" class=\"data row1 col0\" >-0.440723</td>\n",
       "                        <td id=\"T_73b4f_row1_col1\" class=\"data row1 col1\" >1.000000</td>\n",
       "                        <td id=\"T_73b4f_row1_col2\" class=\"data row1 col2\" >0.001724</td>\n",
       "                        <td id=\"T_73b4f_row1_col3\" class=\"data row1 col3\" >-0.192356</td>\n",
       "            </tr>\n",
       "            <tr>\n",
       "                        <th id=\"T_73b4f_level0_row2\" class=\"row_heading level0 row2\" >f2</th>\n",
       "                        <td id=\"T_73b4f_row2_col0\" class=\"data row2 col0\" >-0.003153</td>\n",
       "                        <td id=\"T_73b4f_row2_col1\" class=\"data row2 col1\" >0.001724</td>\n",
       "                        <td id=\"T_73b4f_row2_col2\" class=\"data row2 col2\" >1.000000</td>\n",
       "                        <td id=\"T_73b4f_row2_col3\" class=\"data row2 col3\" >0.483663</td>\n",
       "            </tr>\n",
       "            <tr>\n",
       "                        <th id=\"T_73b4f_level0_row3\" class=\"row_heading level0 row3\" >product</th>\n",
       "                        <td id=\"T_73b4f_row3_col0\" class=\"data row3 col0\" >0.143536</td>\n",
       "                        <td id=\"T_73b4f_row3_col1\" class=\"data row3 col1\" >-0.192356</td>\n",
       "                        <td id=\"T_73b4f_row3_col2\" class=\"data row3 col2\" >0.483663</td>\n",
       "                        <td id=\"T_73b4f_row3_col3\" class=\"data row3 col3\" >1.000000</td>\n",
       "            </tr>\n",
       "    </tbody></table>"
      ],
      "text/plain": [
       "<pandas.io.formats.style.Styler at 0x7f7fbc540130>"
      ]
     },
     "execution_count": 6,
     "metadata": {},
     "output_type": "execute_result"
    }
   ],
   "source": [
    "cm = sns.light_palette(\"pink\", as_cmap=True)\n",
    "\n",
    "data_0.corr().style.background_gradient(cmap=cm)"
   ]
  },
  {
   "cell_type": "code",
   "execution_count": 7,
   "metadata": {},
   "outputs": [
    {
     "data": {
      "text/html": [
       "<style  type=\"text/css\" >\n",
       "#T_89976_row0_col0,#T_89976_row1_col1,#T_89976_row2_col2,#T_89976_row2_col3,#T_89976_row3_col2,#T_89976_row3_col3{\n",
       "            background-color:  #ffc0cb;\n",
       "            color:  #000000;\n",
       "        }#T_89976_row0_col1{\n",
       "            background-color:  #f5e7e9;\n",
       "            color:  #000000;\n",
       "        }#T_89976_row0_col2,#T_89976_row0_col3,#T_89976_row1_col2,#T_89976_row2_col1,#T_89976_row3_col0,#T_89976_row3_col1{\n",
       "            background-color:  #f3f0f0;\n",
       "            color:  #000000;\n",
       "        }#T_89976_row1_col0{\n",
       "            background-color:  #f5e6e9;\n",
       "            color:  #000000;\n",
       "        }#T_89976_row1_col3{\n",
       "            background-color:  #f3eff0;\n",
       "            color:  #000000;\n",
       "        }#T_89976_row2_col0{\n",
       "            background-color:  #f3efef;\n",
       "            color:  #000000;\n",
       "        }</style><table id=\"T_89976_\" ><thead>    <tr>        <th class=\"blank level0\" ></th>        <th class=\"col_heading level0 col0\" >f0</th>        <th class=\"col_heading level0 col1\" >f1</th>        <th class=\"col_heading level0 col2\" >f2</th>        <th class=\"col_heading level0 col3\" >product</th>    </tr></thead><tbody>\n",
       "                <tr>\n",
       "                        <th id=\"T_89976_level0_row0\" class=\"row_heading level0 row0\" >f0</th>\n",
       "                        <td id=\"T_89976_row0_col0\" class=\"data row0 col0\" >1.000000</td>\n",
       "                        <td id=\"T_89976_row0_col1\" class=\"data row0 col1\" >0.182287</td>\n",
       "                        <td id=\"T_89976_row0_col2\" class=\"data row0 col2\" >-0.001777</td>\n",
       "                        <td id=\"T_89976_row0_col3\" class=\"data row0 col3\" >-0.030491</td>\n",
       "            </tr>\n",
       "            <tr>\n",
       "                        <th id=\"T_89976_level0_row1\" class=\"row_heading level0 row1\" >f1</th>\n",
       "                        <td id=\"T_89976_row1_col0\" class=\"data row1 col0\" >0.182287</td>\n",
       "                        <td id=\"T_89976_row1_col1\" class=\"data row1 col1\" >1.000000</td>\n",
       "                        <td id=\"T_89976_row1_col2\" class=\"data row1 col2\" >-0.002595</td>\n",
       "                        <td id=\"T_89976_row1_col3\" class=\"data row1 col3\" >-0.010155</td>\n",
       "            </tr>\n",
       "            <tr>\n",
       "                        <th id=\"T_89976_level0_row2\" class=\"row_heading level0 row2\" >f2</th>\n",
       "                        <td id=\"T_89976_row2_col0\" class=\"data row2 col0\" >-0.001777</td>\n",
       "                        <td id=\"T_89976_row2_col1\" class=\"data row2 col1\" >-0.002595</td>\n",
       "                        <td id=\"T_89976_row2_col2\" class=\"data row2 col2\" >1.000000</td>\n",
       "                        <td id=\"T_89976_row2_col3\" class=\"data row2 col3\" >0.999397</td>\n",
       "            </tr>\n",
       "            <tr>\n",
       "                        <th id=\"T_89976_level0_row3\" class=\"row_heading level0 row3\" >product</th>\n",
       "                        <td id=\"T_89976_row3_col0\" class=\"data row3 col0\" >-0.030491</td>\n",
       "                        <td id=\"T_89976_row3_col1\" class=\"data row3 col1\" >-0.010155</td>\n",
       "                        <td id=\"T_89976_row3_col2\" class=\"data row3 col2\" >0.999397</td>\n",
       "                        <td id=\"T_89976_row3_col3\" class=\"data row3 col3\" >1.000000</td>\n",
       "            </tr>\n",
       "    </tbody></table>"
      ],
      "text/plain": [
       "<pandas.io.formats.style.Styler at 0x7f7f37bdc550>"
      ]
     },
     "execution_count": 7,
     "metadata": {},
     "output_type": "execute_result"
    }
   ],
   "source": [
    "data_1.corr().style.background_gradient(cmap=cm)"
   ]
  },
  {
   "cell_type": "code",
   "execution_count": 8,
   "metadata": {
    "scrolled": true
   },
   "outputs": [
    {
     "data": {
      "text/html": [
       "<style  type=\"text/css\" >\n",
       "#T_e28f7_row0_col0,#T_e28f7_row1_col1,#T_e28f7_row2_col2,#T_e28f7_row3_col3{\n",
       "            background-color:  #ffc0cb;\n",
       "            color:  #000000;\n",
       "        }#T_e28f7_row0_col1,#T_e28f7_row0_col2,#T_e28f7_row0_col3,#T_e28f7_row1_col0,#T_e28f7_row1_col2,#T_e28f7_row1_col3,#T_e28f7_row2_col0,#T_e28f7_row2_col1,#T_e28f7_row3_col0,#T_e28f7_row3_col1{\n",
       "            background-color:  #f3f0f0;\n",
       "            color:  #000000;\n",
       "        }#T_e28f7_row2_col3,#T_e28f7_row3_col2{\n",
       "            background-color:  #f8dbe0;\n",
       "            color:  #000000;\n",
       "        }</style><table id=\"T_e28f7_\" ><thead>    <tr>        <th class=\"blank level0\" ></th>        <th class=\"col_heading level0 col0\" >f0</th>        <th class=\"col_heading level0 col1\" >f1</th>        <th class=\"col_heading level0 col2\" >f2</th>        <th class=\"col_heading level0 col3\" >product</th>    </tr></thead><tbody>\n",
       "                <tr>\n",
       "                        <th id=\"T_e28f7_level0_row0\" class=\"row_heading level0 row0\" >f0</th>\n",
       "                        <td id=\"T_e28f7_row0_col0\" class=\"data row0 col0\" >1.000000</td>\n",
       "                        <td id=\"T_e28f7_row0_col1\" class=\"data row0 col1\" >0.000528</td>\n",
       "                        <td id=\"T_e28f7_row0_col2\" class=\"data row0 col2\" >-0.000448</td>\n",
       "                        <td id=\"T_e28f7_row0_col3\" class=\"data row0 col3\" >-0.001987</td>\n",
       "            </tr>\n",
       "            <tr>\n",
       "                        <th id=\"T_e28f7_level0_row1\" class=\"row_heading level0 row1\" >f1</th>\n",
       "                        <td id=\"T_e28f7_row1_col0\" class=\"data row1 col0\" >0.000528</td>\n",
       "                        <td id=\"T_e28f7_row1_col1\" class=\"data row1 col1\" >1.000000</td>\n",
       "                        <td id=\"T_e28f7_row1_col2\" class=\"data row1 col2\" >0.000779</td>\n",
       "                        <td id=\"T_e28f7_row1_col3\" class=\"data row1 col3\" >-0.001012</td>\n",
       "            </tr>\n",
       "            <tr>\n",
       "                        <th id=\"T_e28f7_level0_row2\" class=\"row_heading level0 row2\" >f2</th>\n",
       "                        <td id=\"T_e28f7_row2_col0\" class=\"data row2 col0\" >-0.000448</td>\n",
       "                        <td id=\"T_e28f7_row2_col1\" class=\"data row2 col1\" >0.000779</td>\n",
       "                        <td id=\"T_e28f7_row2_col2\" class=\"data row2 col2\" >1.000000</td>\n",
       "                        <td id=\"T_e28f7_row2_col3\" class=\"data row2 col3\" >0.445871</td>\n",
       "            </tr>\n",
       "            <tr>\n",
       "                        <th id=\"T_e28f7_level0_row3\" class=\"row_heading level0 row3\" >product</th>\n",
       "                        <td id=\"T_e28f7_row3_col0\" class=\"data row3 col0\" >-0.001987</td>\n",
       "                        <td id=\"T_e28f7_row3_col1\" class=\"data row3 col1\" >-0.001012</td>\n",
       "                        <td id=\"T_e28f7_row3_col2\" class=\"data row3 col2\" >0.445871</td>\n",
       "                        <td id=\"T_e28f7_row3_col3\" class=\"data row3 col3\" >1.000000</td>\n",
       "            </tr>\n",
       "    </tbody></table>"
      ],
      "text/plain": [
       "<pandas.io.formats.style.Styler at 0x7f7f37d41ac0>"
      ]
     },
     "execution_count": 8,
     "metadata": {},
     "output_type": "execute_result"
    }
   ],
   "source": [
    "data_2.corr().style.background_gradient(cmap=cm)"
   ]
  },
  {
   "cell_type": "code",
   "execution_count": 9,
   "metadata": {},
   "outputs": [
    {
     "data": {
      "image/png": "[encoded data removed]",
      "text/plain": [
       "<Figure size 864x504 with 1 Axes>"
      ]
     },
     "metadata": {
      "needs_background": "light"
     },
     "output_type": "display_data"
    }
   ],
   "source": [
    "pr0 = data_0['product'].plot(kind='hist',\n",
    "                             figsize=(12,7),\n",
    "                             grid=True,\n",
    "                             legend=True,\n",
    "                             alpha=0.5,\n",
    "                             label='1 регион');\n",
    "pr1 = data_1['product'].plot(kind='hist',\n",
    "                             figsize=(12,7),\n",
    "                             grid=True,\n",
    "                             legend=True,\n",
    "                             alpha=0.5,\n",
    "                             label='2 регион');\n",
    "pr2 = data_2['product'].plot(kind='hist',\n",
    "                             figsize=(12,7),\n",
    "                             grid=True,\n",
    "                             legend=True,\n",
    "                             alpha=0.5,\n",
    "                             label='3 регион');\n",
    "plt.xlabel('Распределение скважин по запасам нефти, 1');\n",
    "plt.ylabel('Запасы нефти в скважине, тыс. баррелей');"
   ]
  },
  {
   "cell_type": "markdown",
   "metadata": {},
   "source": [
    "Прямая корреляция очень близка к 1 во втором регионе (связь принзнака f1 и product).\n",
    "\n",
    "В принципе, на мой взгляд, нет каких-то явных пробелов в данных, поэтому можем идти дальше."
   ]
  },
  {
   "cell_type": "code",
   "execution_count": 10,
   "metadata": {},
   "outputs": [],
   "source": [
    "#удалим колонку с id, т.к. она не несет для нас смысловой нагрузки\n",
    "#и в дальнейшем она может вызвать ошибки при обучении\n",
    "data_0 = data_0.drop(columns = ['id'])\n",
    "data_1 = data_1.drop(columns = ['id'])\n",
    "data_2 = data_2.drop(columns = ['id'])"
   ]
  },
  {
   "cell_type": "markdown",
   "metadata": {},
   "source": [
    "## Обучение и проверка модели"
   ]
  },
  {
   "cell_type": "code",
   "execution_count": 11,
   "metadata": {},
   "outputs": [],
   "source": [
    "#разобьем данные на обучающие и на валидационные выборки\n",
    "features_0 = data_0.drop(['product'], axis=1)\n",
    "features_1 = data_1.drop(['product'], axis=1)\n",
    "features_2 = data_2.drop(['product'], axis=1)\n",
    "target_0 = data_0['product']\n",
    "target_1 = data_1['product']\n",
    "target_2 = data_2['product']\n",
    "\n",
    "features_train_0, features_valid_0, target_train_0, target_valid_0 = train_test_split( \n",
    "    features_0, target_0, test_size=0.25, random_state=12345)\n",
    "\n",
    "features_train_1, features_valid_1, target_train_1, target_valid_1 = train_test_split( \n",
    "    features_1, target_1, test_size=0.25, random_state=12345)\n",
    "\n",
    "features_train_2, features_valid_2, target_train_2, target_valid_2 = train_test_split( \n",
    "    features_2, target_2, test_size=0.25, random_state=12345)\n"
   ]
  },
  {
   "cell_type": "code",
   "execution_count": 12,
   "metadata": {},
   "outputs": [
    {
     "name": "stdout",
     "output_type": "stream",
     "text": [
      "Среднеквадратичное отклонение равно: 37.58\n",
      "Точность модели равнf: 27.99%\n"
     ]
    }
   ],
   "source": [
    "#обучим модель по тренировочной выборке первого региона\n",
    "#посмотрим на среднеквадратичное отклонение предсказания\n",
    "model_0 = LinearRegression()\n",
    "model_0.fit(features_train_0, target_train_0)\n",
    "predict_0 = model_0.predict(features_valid_0)\n",
    "rmse_0 = mean_squared_error(target_valid_0, predict_0)**0.5\n",
    "print('Среднеквадратичное отклонение равно: %.2f' % rmse_0)\n",
    "result_0 = model_0.score(features_valid_0, target_valid_0)\n",
    "print('Точность модели равнf: {:.2%}'.format(result_0))"
   ]
  },
  {
   "cell_type": "code",
   "execution_count": 13,
   "metadata": {},
   "outputs": [
    {
     "name": "stdout",
     "output_type": "stream",
     "text": [
      "Среднеквадратичное отклонение равно: 0.89\n",
      "Точность модели равна: 99.96%\n"
     ]
    }
   ],
   "source": [
    "#обучим модель по тренировочной выборке второго региона\n",
    "#посмотрим на среднеквадратичное отклонение предсказания\n",
    "model_1 = LinearRegression()\n",
    "model_1.fit(features_train_1, target_train_1)\n",
    "predict_1 = model_1.predict(features_valid_1)\n",
    "rmse_1 = mean_squared_error(target_valid_1, predict_1)**0.5\n",
    "print('Среднеквадратичное отклонение равно: %.2f' % rmse_1)\n",
    "result_1 = model_1.score(features_valid_1, target_valid_1)\n",
    "print('Точность модели равна: {:.2%}'.format(result_1))"
   ]
  },
  {
   "cell_type": "code",
   "execution_count": 14,
   "metadata": {
    "scrolled": false
   },
   "outputs": [
    {
     "name": "stdout",
     "output_type": "stream",
     "text": [
      "Среднеквадратичное отклонение равно: 40.03\n",
      "Точность модели равна: 20.52%\n"
     ]
    }
   ],
   "source": [
    "#обучим модель по тренировочной выборке третьего региона\n",
    "#посмотрим на среднеквадратичное отклонение предсказания\n",
    "model_2 = LinearRegression()\n",
    "model_2.fit(features_train_2, target_train_2)\n",
    "predict_2 = model_2.predict(features_valid_2)\n",
    "rmse_2 = mean_squared_error(target_valid_2, predict_2)**0.5\n",
    "print('Среднеквадратичное отклонение равно: %.2f' % rmse_2)\n",
    "result_2 = model_2.score(features_valid_2, target_valid_2)\n",
    "print('Точность модели равна: {:.2%}'.format(result_2))"
   ]
  },
  {
   "cell_type": "markdown",
   "metadata": {},
   "source": [
    "Предсказания сделанные по валидационным признакам хранятся в переменных *predict_0, predict_1, predict_2*. Правильные валидационные данные хранятся в переменных *target_valid_0, target_valid_1, target_valid_2*."
   ]
  },
  {
   "cell_type": "markdown",
   "metadata": {},
   "source": [
    "Как мы видим из расчетов - модель обученная по втрому региону обладает большей точностью, и меньшей среднеквадратичной ошибкой. Скорее всего это связано с тем что данные, на которых обучалась модель, имеют малый разброс."
   ]
  },
  {
   "cell_type": "code",
   "execution_count": 15,
   "metadata": {
    "scrolled": false
   },
   "outputs": [
    {
     "data": {
      "image/png": "[encoded data removed]",
      "text/plain": [
       "<Figure size 432x288 with 1 Axes>"
      ]
     },
     "metadata": {
      "needs_background": "light"
     },
     "output_type": "display_data"
    }
   ],
   "source": [
    "sns.boxplot(data=[data_0['product'], data_1['product'], data_2['product']])\n",
    "#rcParams['figure.figsize'] = 5, 10\n",
    "plt.xlabel('Номер региона')\n",
    "plt.ylabel('Кол-во нефти, тыс. баррелей')\n",
    "plt.show()"
   ]
  },
  {
   "cell_type": "markdown",
   "metadata": {},
   "source": [
    "Как мы видим из графика, действительно - во 2 регионе разброс данных меньше, чем в друх других."
   ]
  },
  {
   "cell_type": "markdown",
   "metadata": {},
   "source": [
    "И так... Модели обучены, предсказания сделаны."
   ]
  },
  {
   "cell_type": "markdown",
   "metadata": {},
   "source": [
    "## Подготовка к расчёту прибыли"
   ]
  },
  {
   "cell_type": "markdown",
   "metadata": {},
   "source": [
    "- Бюджет на разработку скважин в регионе — 10 млрд рублей. *(budget)*\n",
    "- При нынешних ценах один баррель сырья приносит 450 рублей дохода. Доход с каждой единицы продукта составляет 450 тыс. рублей, поскольку объём указан в тысячах баррелей. *(barrel_cost)*\n",
    "- После оценки рисков нужно оставить лишь те регионы, в которых вероятность убытков меньше 2.5%. Среди них выбирают регион с наибольшей средней прибылью. *probability_of_losses*"
   ]
  },
  {
   "cell_type": "code",
   "execution_count": 16,
   "metadata": {},
   "outputs": [],
   "source": [
    "#для всех ключевых значений созданы константы Python\n",
    "budget = 10_000_000_000\n",
    "barrel_cost = 450_000\n",
    "probability_of_losses = 0.025\n",
    "top_200 = 200"
   ]
  },
  {
   "cell_type": "code",
   "execution_count": 17,
   "metadata": {},
   "outputs": [
    {
     "data": {
      "text/plain": [
       "50000000.0"
      ]
     },
     "execution_count": 17,
     "metadata": {},
     "output_type": "execute_result"
    }
   ],
   "source": [
    "budget_for_one = budget/top_200\n",
    "budget_for_one"
   ]
  },
  {
   "cell_type": "markdown",
   "metadata": {},
   "source": [
    "Поскольку перед нами стоит задача на разработку 200 скважин в регионе - значит на разработку каждой скважины требуется *50 млн. (budget_for_one)* \n",
    "\n",
    "Таким образом можно сказать, что для разработки подходят скважины, имеющие нефть, суммарная стоимость которой превышает 50 млн. руб."
   ]
  },
  {
   "cell_type": "code",
   "execution_count": 18,
   "metadata": {},
   "outputs": [
    {
     "name": "stdout",
     "output_type": "stream",
     "text": [
      "Средний объем нефти в 1 регионе 92.50000000000001\n",
      "Средний объем нефти в 2 регионе 68.82500000000002\n",
      "Средний объем нефти в 3 регионе 95.00000000000004\n"
     ]
    }
   ],
   "source": [
    "print('Средний объем нефти в 1 регионе', data_0['product'].mean())\n",
    "print('Средний объем нефти в 2 регионе', target_1.mean())\n",
    "print('Средний объем нефти в 3 регионе', target_2.mean())"
   ]
  },
  {
   "cell_type": "code",
   "execution_count": 19,
   "metadata": {
    "scrolled": true
   },
   "outputs": [
    {
     "data": {
      "text/plain": [
       "111.11111111111111"
      ]
     },
     "execution_count": 19,
     "metadata": {},
     "output_type": "execute_result"
    }
   ],
   "source": [
    "min_barrel_need = budget_for_one/barrel_cost\n",
    "min_barrel_need"
   ]
  },
  {
   "cell_type": "markdown",
   "metadata": {},
   "source": [
    "Из расчета видно что минимальное достаточное количество нефти для окупаемости скважины равно 111 тыс. баррелей нефти.\n",
    "\n",
    "Средний объем нефти в регионах ниже, чем необходимый для безубыточной разработки.\n",
    "\n",
    "Ранее была показана диаграмма разброса (ящик с усами), на котором виден диапазон разброса значений количества нефти в регионах. Поэтому нельзя сказать что регионы будут 100% убыточны при разработке лишь *200* скважин, а не всего региона."
   ]
  },
  {
   "cell_type": "markdown",
   "metadata": {},
   "source": [
    "Расчет прибыли региона будет высчитываться по формуле:\n",
    "\n",
    "*прибыль = кол-во тыс. баррелей добытых в регионе * стоимость 1 тыс. баррелей - бюджет затраченный на разработку скважин в регионе*"
   ]
  },
  {
   "cell_type": "code",
   "execution_count": 20,
   "metadata": {},
   "outputs": [],
   "source": [
    "def profit(target_valid, predictions_valid, top_200):\n",
    "    \n",
    "    target = target_valid.reset_index(drop = True)\n",
    "    predictions = pd.Series(predictions_valid, index = target.index)\n",
    "    best_points = target[predictions.sort_values(ascending = False).index][:top_200]\n",
    "    \n",
    "    return (best_points.sum() * barrel_cost - budget) / 1000000"
   ]
  },
  {
   "cell_type": "markdown",
   "metadata": {},
   "source": [
    "## Расчёт прибыли и рисков "
   ]
  },
  {
   "cell_type": "markdown",
   "metadata": {},
   "source": [
    "Отсортируем предсказания по убыванию, таким образом чтобы первые 200 значений были самыми большими из них (предсказаний). \n",
    "\n",
    "Посчитаем суммарное кол-во нефти в них и прибыль которую они могу принести. "
   ]
  },
  {
   "cell_type": "code",
   "execution_count": 21,
   "metadata": {},
   "outputs": [
    {
     "name": "stdout",
     "output_type": "stream",
     "text": [
      "Объем нефти в 1 регионе равен 18260 тыс. баррелей\n",
      "Объем нефти в 1 регионе равен 13346 тыс. баррелей\n",
      "Объем нефти в 1 регионе равен 19644 тыс. баррелей\n"
     ]
    }
   ],
   "source": [
    "#predict_0.sorted()\n",
    "#predict_0\n",
    "\n",
    "sum_bar_0 = predict_0[:200].sum()\n",
    "sum_bar_1 = predict_1[:200].sum()\n",
    "sum_bar_2 = predict_2[:200].sum()\n",
    "\n",
    "print('Объем нефти в 1 регионе равен %.0f' % sum_bar_0, 'тыс. баррелей')\n",
    "print('Объем нефти в 1 регионе равен %.0f' % sum_bar_1, 'тыс. баррелей')\n",
    "print('Объем нефти в 1 регионе равен %.0f' % sum_bar_2, 'тыс. баррелей')"
   ]
  },
  {
   "cell_type": "code",
   "execution_count": 22,
   "metadata": {},
   "outputs": [
    {
     "name": "stdout",
     "output_type": "stream",
     "text": [
      "Прибыль с 1 региона равна 3320.83 млн. руб.\n",
      "Прибыль с 2 региона равна 2415.09 млн. руб.\n",
      "Прибыль с 3 региона равна 2710.35 млн. руб.\n"
     ]
    }
   ],
   "source": [
    "profit_0 = profit(target_valid_0, predict_0, top_200)\n",
    "profit_1 = profit(target_valid_1, predict_1, top_200)\n",
    "profit_2 = profit(target_valid_2, predict_2, top_200)\n",
    "print('Прибыль с 1 региона равна %.2f' % profit_0, 'млн. руб.')\n",
    "print('Прибыль с 2 региона равна %.2f' % profit_1, 'млн. руб.')\n",
    "print('Прибыль с 3 региона равна %.2f' % profit_2, 'млн. руб.')"
   ]
  },
  {
   "cell_type": "markdown",
   "metadata": {},
   "source": [
    "Если я правильно понял, то вероятность убытка это отношение количества значений прибыли (*count*), ко всем (1000 выборок)."
   ]
  },
  {
   "cell_type": "code",
   "execution_count": 23,
   "metadata": {},
   "outputs": [],
   "source": [
    "def bootstrap1000(target, predict, n):\n",
    "    state = np.random.RandomState(12345)\n",
    "    profits = []\n",
    "    count = 0\n",
    "\n",
    "    for i in range(1000):\n",
    "        target_subsample = target.reset_index(drop= True).sample(n, random_state=state, replace=True)\n",
    "        probs_subsample = predict[target_subsample.index]\n",
    "        #сортируем список по запасам нефти\n",
    "        profits.append(profit(target_subsample,\n",
    "                              probs_subsample, top_200))#заполняем прибыть\n",
    "    profits = pd.Series(profits)\n",
    "    \n",
    "    count = profits[profits<0].count()/1000\n",
    "\n",
    "    lower = profits.quantile(0.025)\n",
    "    upper = profits.quantile(.975)\n",
    "\n",
    "    print('Средняя прибыль в регионе равна: %.2f' % (profits.mean()), 'мл. руб.')\n",
    "    print('95% доверительный интервал лежит в диапазоне: {:.2f}'.format(lower),\n",
    "          '- {:.2f}'.format(upper))\n",
    "    print('Вероятность убытка равна: {:.2%}'.format(count))"
   ]
  },
  {
   "cell_type": "markdown",
   "metadata": {},
   "source": [
    "Для первого региона:"
   ]
  },
  {
   "cell_type": "code",
   "execution_count": 24,
   "metadata": {},
   "outputs": [
    {
     "name": "stdout",
     "output_type": "stream",
     "text": [
      "Средняя прибыль в регионе равна: 396.16 мл. руб.\n",
      "95% доверительный интервал лежит в диапазоне: -111.22 - 909.77\n",
      "Вероятность убытка равна: 6.90%\n"
     ]
    }
   ],
   "source": [
    "bootstrap1000(target_valid_0, predict_0, 500)"
   ]
  },
  {
   "cell_type": "markdown",
   "metadata": {},
   "source": [
    "Для второго региона:"
   ]
  },
  {
   "cell_type": "code",
   "execution_count": 25,
   "metadata": {
    "scrolled": false
   },
   "outputs": [
    {
     "name": "stdout",
     "output_type": "stream",
     "text": [
      "Средняя прибыль в регионе равна: 456.05 мл. руб.\n",
      "95% доверительный интервал лежит в диапазоне: 33.82 - 852.29\n",
      "Вероятность убытка равна: 1.50%\n"
     ]
    }
   ],
   "source": [
    "bootstrap1000(target_valid_1, predict_1, 500)"
   ]
  },
  {
   "cell_type": "markdown",
   "metadata": {},
   "source": [
    "Для третьего региона"
   ]
  },
  {
   "cell_type": "code",
   "execution_count": 26,
   "metadata": {
    "scrolled": true
   },
   "outputs": [
    {
     "name": "stdout",
     "output_type": "stream",
     "text": [
      "Средняя прибыль в регионе равна: 404.40 мл. руб.\n",
      "95% доверительный интервал лежит в диапазоне: -163.35 - 950.36\n",
      "Вероятность убытка равна: 7.60%\n"
     ]
    }
   ],
   "source": [
    "bootstrap1000(target_valid_2, predict_2, 500)"
   ]
  },
  {
   "cell_type": "markdown",
   "metadata": {},
   "source": [
    "## Вывод"
   ]
  },
  {
   "cell_type": "markdown",
   "metadata": {},
   "source": [
    "- Подготовил данные. Проверил на наличие дубликатов, пропусков, посмотрел форматы данных. Изучили данные.\n",
    "- Разбил данные на обучающую и валидационную выборку. Обучил модель.\n",
    "- Рассчитал среднеквадратичное отклонение предсказаний от валидационной выборки\n",
    "- Написал функции расчета прибыли и *Bootstrap*\n",
    "- Сравнил <u>средний объем нефти</u> в регионе с минимальным объемом при котором разработка скважины окупала бы сама себя (расстроился, в среднем во всех регионах этот показатель ниже, <u>чем хотелось бы</u>)\n",
    "- Посмотрел на разброс объемов нефти в скважинах, в 1 регионе он ощутимо ниже\n",
    "- Процедурой *Bootstrap* разбил выборки по 500 значений, из этих 500, сортировкой, взял 200 с наибольшим показателем объема в скважине. Расчитал суммарный доход, вычел из него бюджет затраченный на разработку - получил прибыль (или убыток, если значение отрицательное). И так 1000 раз...\n",
    "- Взял отношение количества значений убытка ко всех значениям (1000 группировок)\n",
    "- Расчитал среднюю прибыль в регионе, доверительный интервал и вероятность убытка (порядок действий описал выше)\n",
    "\n",
    "Подводя итог могу сказать, что наимее потенциально убыточно было бы вложить бюджет в развитие добычи во **2** регионе, т.к там самая низкая вероятность убытка, при этом самая высокая средняя прибыль."
   ]
  }
 ],
 "metadata": {
  "ExecuteTimeLog": [
   {
    "duration": 3064,
    "start_time": "2023-02-10T21:16:01.420Z"
   },
   {
    "duration": 1271,
    "start_time": "2023-02-10T21:16:04.486Z"
   },
   {
    "duration": 40,
    "start_time": "2023-02-10T21:16:05.758Z"
   },
   {
    "duration": 22,
    "start_time": "2023-02-10T21:16:05.799Z"
   },
   {
    "duration": 147,
    "start_time": "2023-02-10T21:16:05.840Z"
   },
   {
    "duration": 67,
    "start_time": "2023-02-10T21:16:05.988Z"
   },
   {
    "duration": 21,
    "start_time": "2023-02-10T21:16:06.056Z"
   },
   {
    "duration": 20,
    "start_time": "2023-02-10T21:16:06.079Z"
   },
   {
    "duration": 347,
    "start_time": "2023-02-10T21:16:06.101Z"
   },
   {
    "duration": 18,
    "start_time": "2023-02-10T21:16:06.450Z"
   },
   {
    "duration": 40,
    "start_time": "2023-02-10T21:16:06.470Z"
   },
   {
    "duration": 43,
    "start_time": "2023-02-10T21:16:06.512Z"
   },
   {
    "duration": 191,
    "start_time": "2023-02-10T21:16:06.559Z"
   },
   {
    "duration": 200,
    "start_time": "2023-02-10T21:16:06.840Z"
   },
   {
    "duration": 230,
    "start_time": "2023-02-10T21:16:07.048Z"
   },
   {
    "duration": 3,
    "start_time": "2023-02-10T21:16:07.279Z"
   },
   {
    "duration": 15,
    "start_time": "2023-02-10T21:16:07.283Z"
   },
   {
    "duration": 9,
    "start_time": "2023-02-10T21:16:07.300Z"
   },
   {
    "duration": 5,
    "start_time": "2023-02-10T21:16:07.310Z"
   },
   {
    "duration": 4,
    "start_time": "2023-02-10T21:16:07.317Z"
   },
   {
    "duration": 17,
    "start_time": "2023-02-10T21:16:07.323Z"
   },
   {
    "duration": 28,
    "start_time": "2023-02-10T21:16:07.342Z"
   },
   {
    "duration": 5,
    "start_time": "2023-02-10T21:16:07.372Z"
   },
   {
    "duration": 1089,
    "start_time": "2023-02-10T21:16:07.378Z"
   },
   {
    "duration": 1124,
    "start_time": "2023-02-10T21:16:08.469Z"
   },
   {
    "duration": 995,
    "start_time": "2023-02-10T21:16:09.595Z"
   },
   {
    "duration": 8,
    "start_time": "2023-02-15T16:03:49.951Z"
   },
   {
    "duration": 8,
    "start_time": "2023-02-15T16:03:54.471Z"
   },
   {
    "duration": 2,
    "start_time": "2023-02-15T16:04:34.585Z"
   },
   {
    "duration": 4,
    "start_time": "2023-02-15T16:04:39.415Z"
   },
   {
    "duration": 4,
    "start_time": "2023-02-15T16:04:46.798Z"
   },
   {
    "duration": 4,
    "start_time": "2023-02-15T16:04:56.416Z"
   },
   {
    "duration": 4,
    "start_time": "2023-02-15T16:05:05.729Z"
   },
   {
    "duration": 43,
    "start_time": "2023-02-15T16:05:23.585Z"
   },
   {
    "duration": 4,
    "start_time": "2023-02-15T16:05:27.553Z"
   },
   {
    "duration": 3,
    "start_time": "2023-02-15T16:06:06.316Z"
   },
   {
    "duration": 4,
    "start_time": "2023-02-15T16:06:20.037Z"
   },
   {
    "duration": 3,
    "start_time": "2023-02-15T16:06:28.757Z"
   },
   {
    "duration": 3,
    "start_time": "2023-02-15T16:06:34.075Z"
   },
   {
    "duration": 4,
    "start_time": "2023-02-15T16:06:34.277Z"
   },
   {
    "duration": 4,
    "start_time": "2023-02-15T16:06:34.443Z"
   },
   {
    "duration": 5,
    "start_time": "2023-02-15T16:06:49.349Z"
   },
   {
    "duration": 7,
    "start_time": "2023-02-15T16:06:52.954Z"
   },
   {
    "duration": 2,
    "start_time": "2023-02-15T16:07:11.121Z"
   },
   {
    "duration": 6,
    "start_time": "2023-02-15T16:07:11.384Z"
   },
   {
    "duration": 9,
    "start_time": "2023-02-15T16:07:14.900Z"
   },
   {
    "duration": 6,
    "start_time": "2023-02-15T16:07:19.862Z"
   },
   {
    "duration": 2,
    "start_time": "2023-02-15T16:08:09.009Z"
   },
   {
    "duration": 3,
    "start_time": "2023-02-15T16:08:18.547Z"
   },
   {
    "duration": 4,
    "start_time": "2023-02-15T16:08:23.237Z"
   },
   {
    "duration": 4,
    "start_time": "2023-02-15T16:08:49.115Z"
   },
   {
    "duration": 6,
    "start_time": "2023-02-15T16:09:00.570Z"
   },
   {
    "duration": 6,
    "start_time": "2023-02-15T16:09:05.667Z"
   },
   {
    "duration": 7,
    "start_time": "2023-02-15T16:09:11.622Z"
   },
   {
    "duration": 2,
    "start_time": "2023-02-15T16:09:17.198Z"
   },
   {
    "duration": 4,
    "start_time": "2023-02-15T16:09:18.014Z"
   },
   {
    "duration": 2,
    "start_time": "2023-02-15T16:09:46.677Z"
   },
   {
    "duration": 2,
    "start_time": "2023-02-15T16:09:53.733Z"
   },
   {
    "duration": 6,
    "start_time": "2023-02-15T16:09:57.390Z"
   },
   {
    "duration": 5,
    "start_time": "2023-02-15T16:10:01.963Z"
   },
   {
    "duration": 4,
    "start_time": "2023-02-15T16:10:12.504Z"
   },
   {
    "duration": 3,
    "start_time": "2023-02-15T16:10:17.522Z"
   },
   {
    "duration": 3,
    "start_time": "2023-02-15T16:11:52.338Z"
   },
   {
    "duration": 8,
    "start_time": "2023-02-15T16:11:58.566Z"
   },
   {
    "duration": 7,
    "start_time": "2023-02-15T16:12:57.266Z"
   },
   {
    "duration": 9,
    "start_time": "2023-02-15T16:13:04.869Z"
   },
   {
    "duration": 3,
    "start_time": "2023-02-15T16:13:10.072Z"
   },
   {
    "duration": 7,
    "start_time": "2023-02-15T16:13:10.395Z"
   },
   {
    "duration": 6,
    "start_time": "2023-02-15T16:13:14.361Z"
   },
   {
    "duration": 43,
    "start_time": "2023-02-15T16:13:22.424Z"
   },
   {
    "duration": 8,
    "start_time": "2023-02-15T16:13:37.302Z"
   },
   {
    "duration": 8,
    "start_time": "2023-02-15T16:13:55.816Z"
   },
   {
    "duration": 46,
    "start_time": "2023-02-15T16:13:58.506Z"
   },
   {
    "duration": 7,
    "start_time": "2023-02-15T16:14:02.325Z"
   },
   {
    "duration": 6,
    "start_time": "2023-02-15T16:14:06.634Z"
   },
   {
    "duration": 10,
    "start_time": "2023-02-15T16:14:32.659Z"
   },
   {
    "duration": 3,
    "start_time": "2023-02-15T16:15:09.577Z"
   },
   {
    "duration": 4,
    "start_time": "2023-02-15T16:15:11.883Z"
   },
   {
    "duration": 3,
    "start_time": "2023-02-15T16:15:20.744Z"
   },
   {
    "duration": 3,
    "start_time": "2023-02-15T16:15:25.824Z"
   },
   {
    "duration": 4,
    "start_time": "2023-02-15T16:15:35.260Z"
   },
   {
    "duration": 3,
    "start_time": "2023-02-15T16:15:52.225Z"
   },
   {
    "duration": 6,
    "start_time": "2023-02-15T16:15:52.817Z"
   },
   {
    "duration": 4,
    "start_time": "2023-02-15T16:15:58.125Z"
   },
   {
    "duration": 5,
    "start_time": "2023-02-15T16:16:07.191Z"
   },
   {
    "duration": 2,
    "start_time": "2023-02-15T16:16:19.752Z"
   },
   {
    "duration": 3,
    "start_time": "2023-02-15T16:16:19.938Z"
   },
   {
    "duration": 3,
    "start_time": "2023-02-15T16:16:22.167Z"
   },
   {
    "duration": 4,
    "start_time": "2023-02-15T16:16:24.770Z"
   },
   {
    "duration": 5,
    "start_time": "2023-02-15T16:16:44.457Z"
   },
   {
    "duration": 5,
    "start_time": "2023-02-15T16:16:49.096Z"
   },
   {
    "duration": 46,
    "start_time": "2023-02-15T16:17:24.420Z"
   },
   {
    "duration": 2,
    "start_time": "2023-02-15T16:17:28.813Z"
   },
   {
    "duration": 5,
    "start_time": "2023-02-15T16:17:55.471Z"
   },
   {
    "duration": 5,
    "start_time": "2023-02-15T16:18:04.109Z"
   },
   {
    "duration": 94,
    "start_time": "2023-02-15T16:18:24.133Z"
   },
   {
    "duration": 4,
    "start_time": "2023-02-15T16:18:30.228Z"
   },
   {
    "duration": 8,
    "start_time": "2023-02-15T16:18:52.768Z"
   },
   {
    "duration": 4,
    "start_time": "2023-02-15T16:18:56.288Z"
   },
   {
    "duration": 4,
    "start_time": "2023-02-15T16:19:16.546Z"
   },
   {
    "duration": 4,
    "start_time": "2023-02-15T16:19:24.821Z"
   },
   {
    "duration": 4,
    "start_time": "2023-02-15T16:19:38.314Z"
   },
   {
    "duration": 5,
    "start_time": "2023-02-15T16:19:57.163Z"
   },
   {
    "duration": 2,
    "start_time": "2023-02-15T16:20:45.467Z"
   },
   {
    "duration": 2,
    "start_time": "2023-02-15T16:20:53.581Z"
   },
   {
    "duration": 3,
    "start_time": "2023-02-15T16:21:12.277Z"
   },
   {
    "duration": 4,
    "start_time": "2023-02-15T16:21:17.798Z"
   },
   {
    "duration": 3,
    "start_time": "2023-02-15T16:21:25.388Z"
   },
   {
    "duration": 2,
    "start_time": "2023-02-15T16:21:31.384Z"
   },
   {
    "duration": 3,
    "start_time": "2023-02-15T16:21:57.140Z"
   },
   {
    "duration": 3,
    "start_time": "2023-02-15T16:22:10.094Z"
   },
   {
    "duration": 4,
    "start_time": "2023-02-15T16:22:49.521Z"
   },
   {
    "duration": 5,
    "start_time": "2023-02-15T16:24:05.333Z"
   },
   {
    "duration": 4,
    "start_time": "2023-02-15T16:24:28.104Z"
   },
   {
    "duration": 9,
    "start_time": "2023-02-15T16:24:34.765Z"
   },
   {
    "duration": 6,
    "start_time": "2023-02-15T16:24:39.900Z"
   },
   {
    "duration": 6,
    "start_time": "2023-02-15T16:24:51.583Z"
   },
   {
    "duration": 3,
    "start_time": "2023-02-15T16:25:19.201Z"
   },
   {
    "duration": 4,
    "start_time": "2023-02-15T16:25:20.812Z"
   },
   {
    "duration": 2,
    "start_time": "2023-02-15T16:25:53.148Z"
   },
   {
    "duration": 4,
    "start_time": "2023-02-15T16:26:16.280Z"
   },
   {
    "duration": 3,
    "start_time": "2023-02-15T16:26:23.675Z"
   },
   {
    "duration": 4,
    "start_time": "2023-02-15T16:26:24.301Z"
   },
   {
    "duration": 4,
    "start_time": "2023-02-15T16:26:41.489Z"
   },
   {
    "duration": 4,
    "start_time": "2023-02-15T16:26:53.071Z"
   },
   {
    "duration": 3,
    "start_time": "2023-02-15T16:26:59.725Z"
   },
   {
    "duration": 4,
    "start_time": "2023-02-15T16:27:02.070Z"
   },
   {
    "duration": 3,
    "start_time": "2023-02-15T16:27:41.983Z"
   },
   {
    "duration": 4,
    "start_time": "2023-02-15T16:27:44.335Z"
   },
   {
    "duration": 4,
    "start_time": "2023-02-15T16:28:16.206Z"
   },
   {
    "duration": 3,
    "start_time": "2023-02-15T16:28:28.067Z"
   },
   {
    "duration": 4,
    "start_time": "2023-02-15T16:28:28.606Z"
   },
   {
    "duration": 4,
    "start_time": "2023-02-15T16:28:28.771Z"
   },
   {
    "duration": 4,
    "start_time": "2023-02-15T16:28:28.914Z"
   },
   {
    "duration": 2,
    "start_time": "2023-02-15T16:28:29.064Z"
   },
   {
    "duration": 4,
    "start_time": "2023-02-15T16:28:30.180Z"
   },
   {
    "duration": 5,
    "start_time": "2023-02-15T16:29:28.470Z"
   },
   {
    "duration": 3,
    "start_time": "2023-02-15T16:30:32.886Z"
   },
   {
    "duration": 4,
    "start_time": "2023-02-15T16:30:38.778Z"
   },
   {
    "duration": 3,
    "start_time": "2023-02-15T16:30:48.210Z"
   },
   {
    "duration": 2276,
    "start_time": "2023-02-15T16:30:48.733Z"
   },
   {
    "duration": 3,
    "start_time": "2023-02-15T16:30:57.932Z"
   },
   {
    "duration": 4,
    "start_time": "2023-02-15T16:30:59.953Z"
   },
   {
    "duration": 3,
    "start_time": "2023-02-15T16:31:10.940Z"
   },
   {
    "duration": 2330,
    "start_time": "2023-02-15T16:31:11.496Z"
   },
   {
    "duration": 3,
    "start_time": "2023-02-15T16:31:37.992Z"
   },
   {
    "duration": 4,
    "start_time": "2023-02-15T16:31:41.387Z"
   },
   {
    "duration": 5,
    "start_time": "2023-02-15T16:31:44.330Z"
   },
   {
    "duration": 2,
    "start_time": "2023-02-15T16:56:47.940Z"
   },
   {
    "duration": 3,
    "start_time": "2023-02-15T16:57:10.765Z"
   },
   {
    "duration": 3,
    "start_time": "2023-02-15T16:57:13.355Z"
   },
   {
    "duration": 5,
    "start_time": "2023-02-15T16:57:16.360Z"
   },
   {
    "duration": 5,
    "start_time": "2023-02-15T16:57:16.699Z"
   },
   {
    "duration": 48,
    "start_time": "2023-02-15T16:57:47.630Z"
   },
   {
    "duration": 6,
    "start_time": "2023-02-15T16:58:12.049Z"
   },
   {
    "duration": 4,
    "start_time": "2023-02-15T16:58:35.655Z"
   },
   {
    "duration": 2,
    "start_time": "2023-02-15T17:01:36.309Z"
   },
   {
    "duration": 3,
    "start_time": "2023-02-15T17:01:36.970Z"
   },
   {
    "duration": 3,
    "start_time": "2023-02-15T17:02:25.365Z"
   },
   {
    "duration": 5,
    "start_time": "2023-02-15T17:02:26.351Z"
   },
   {
    "duration": 3,
    "start_time": "2023-02-15T18:03:56.831Z"
   },
   {
    "duration": 4,
    "start_time": "2023-02-15T18:04:03.647Z"
   },
   {
    "duration": 3,
    "start_time": "2023-02-15T18:20:52.172Z"
   },
   {
    "duration": 3,
    "start_time": "2023-02-15T18:20:52.513Z"
   },
   {
    "duration": 4,
    "start_time": "2023-02-15T18:20:54.489Z"
   },
   {
    "duration": 41,
    "start_time": "2023-02-15T18:24:16.043Z"
   },
   {
    "duration": 3,
    "start_time": "2023-02-15T18:24:23.173Z"
   },
   {
    "duration": 4,
    "start_time": "2023-02-15T18:26:09.525Z"
   },
   {
    "duration": 46,
    "start_time": "2023-02-15T18:26:32.364Z"
   },
   {
    "duration": 3,
    "start_time": "2023-02-15T18:27:08.535Z"
   },
   {
    "duration": 4,
    "start_time": "2023-02-15T18:27:08.704Z"
   },
   {
    "duration": 45,
    "start_time": "2023-02-15T18:27:08.913Z"
   },
   {
    "duration": 4,
    "start_time": "2023-02-15T18:27:14.081Z"
   },
   {
    "duration": 4,
    "start_time": "2023-02-15T18:27:14.666Z"
   },
   {
    "duration": 3,
    "start_time": "2023-02-15T18:27:19.209Z"
   },
   {
    "duration": 3,
    "start_time": "2023-02-15T18:27:19.404Z"
   },
   {
    "duration": 4,
    "start_time": "2023-02-15T18:27:19.912Z"
   },
   {
    "duration": 51,
    "start_time": "2023-02-15T18:27:22.223Z"
   },
   {
    "duration": 4,
    "start_time": "2023-02-15T18:27:28.024Z"
   },
   {
    "duration": 3,
    "start_time": "2023-02-15T18:28:14.434Z"
   },
   {
    "duration": 3,
    "start_time": "2023-02-15T18:28:14.642Z"
   },
   {
    "duration": 4,
    "start_time": "2023-02-15T18:28:15.021Z"
   },
   {
    "duration": 47,
    "start_time": "2023-02-15T18:28:15.695Z"
   },
   {
    "duration": 42,
    "start_time": "2023-02-15T18:28:34.515Z"
   },
   {
    "duration": 49,
    "start_time": "2023-02-15T18:29:07.134Z"
   },
   {
    "duration": 4,
    "start_time": "2023-02-15T18:29:43.584Z"
   },
   {
    "duration": 45,
    "start_time": "2023-02-15T18:29:52.773Z"
   },
   {
    "duration": 48,
    "start_time": "2023-02-15T18:30:25.313Z"
   },
   {
    "duration": 50,
    "start_time": "2023-02-15T18:31:09.265Z"
   },
   {
    "duration": 46,
    "start_time": "2023-02-15T18:31:17.569Z"
   },
   {
    "duration": 2,
    "start_time": "2023-02-15T18:31:21.872Z"
   },
   {
    "duration": 2,
    "start_time": "2023-02-15T18:31:22.630Z"
   },
   {
    "duration": 3,
    "start_time": "2023-02-15T18:31:23.472Z"
   },
   {
    "duration": 43,
    "start_time": "2023-02-15T18:31:24.312Z"
   },
   {
    "duration": 40,
    "start_time": "2023-02-15T18:31:35.666Z"
   },
   {
    "duration": 63,
    "start_time": "2023-02-15T18:31:41.052Z"
   },
   {
    "duration": 48,
    "start_time": "2023-02-15T18:31:51.858Z"
   },
   {
    "duration": 54,
    "start_time": "2023-02-15T18:31:58.135Z"
   },
   {
    "duration": 3,
    "start_time": "2023-02-15T18:32:11.679Z"
   },
   {
    "duration": 4,
    "start_time": "2023-02-15T18:32:16.832Z"
   },
   {
    "duration": 3,
    "start_time": "2023-02-15T18:32:29.181Z"
   },
   {
    "duration": 4,
    "start_time": "2023-02-15T18:32:42.433Z"
   },
   {
    "duration": 3,
    "start_time": "2023-02-15T18:32:47.175Z"
   },
   {
    "duration": 2,
    "start_time": "2023-02-15T18:32:49.816Z"
   },
   {
    "duration": 3,
    "start_time": "2023-02-15T18:32:50.031Z"
   },
   {
    "duration": 3,
    "start_time": "2023-02-15T18:32:50.245Z"
   },
   {
    "duration": 4,
    "start_time": "2023-02-15T18:32:50.804Z"
   },
   {
    "duration": 4,
    "start_time": "2023-02-15T18:32:55.346Z"
   },
   {
    "duration": 3,
    "start_time": "2023-02-15T18:33:15.409Z"
   },
   {
    "duration": 3,
    "start_time": "2023-02-15T18:33:20.927Z"
   },
   {
    "duration": 3,
    "start_time": "2023-02-15T18:33:32.041Z"
   },
   {
    "duration": 4,
    "start_time": "2023-02-15T18:33:40.832Z"
   },
   {
    "duration": 4,
    "start_time": "2023-02-15T18:33:50.872Z"
   },
   {
    "duration": 4,
    "start_time": "2023-02-15T18:33:56.163Z"
   },
   {
    "duration": 3,
    "start_time": "2023-02-15T18:36:32.911Z"
   },
   {
    "duration": 3,
    "start_time": "2023-02-15T18:36:35.407Z"
   },
   {
    "duration": 3,
    "start_time": "2023-02-15T18:36:47.614Z"
   },
   {
    "duration": 4,
    "start_time": "2023-02-15T18:36:48.219Z"
   },
   {
    "duration": 3,
    "start_time": "2023-02-15T18:36:53.234Z"
   },
   {
    "duration": 23,
    "start_time": "2023-02-15T18:36:59.399Z"
   },
   {
    "duration": 18,
    "start_time": "2023-02-15T18:37:14.580Z"
   }
  ],
  "kernelspec": {
   "display_name": "Python 3 (ipykernel)",
   "language": "python",
   "name": "python3"
  },
  "language_info": {
   "codemirror_mode": {
    "name": "ipython",
    "version": 3
   },
   "file_extension": ".py",
   "mimetype": "text/x-python",
   "name": "python",
   "nbconvert_exporter": "python",
   "pygments_lexer": "ipython3",
   "version": "3.9.12"
  },
  "toc": {
   "base_numbering": 1,
   "nav_menu": {},
   "number_sections": true,
   "sideBar": true,
   "skip_h1_title": true,
   "title_cell": "Table of Contents",
   "title_sidebar": "Contents",
   "toc_cell": false,
   "toc_position": {},
   "toc_section_display": true,
   "toc_window_display": false
  }
 },
 "nbformat": 4,
 "nbformat_minor": 2
}
